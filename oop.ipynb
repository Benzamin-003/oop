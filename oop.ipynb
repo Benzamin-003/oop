{
 "cells": [
  {
   "cell_type": "code",
   "execution_count": 10,
   "id": "b35e1a32",
   "metadata": {},
   "outputs": [],
   "source": [
    "class cat:\n",
    "    pass"
   ]
  },
  {
   "cell_type": "code",
   "execution_count": null,
   "id": "1ee4f784",
   "metadata": {},
   "outputs": [
    {
     "name": "stdout",
     "output_type": "stream",
     "text": [
      "Furry 2\n"
     ]
    }
   ],
   "source": [
    "class cat:\n",
    "    def __init__(self, name, age):\n",
    "     self.name = name\n",
    "     self.age = age\n",
    "     print(self.name, self.age)\n",
    "cat1= cat('Furry',2)\n",
    "cat.sp\n"
   ]
  },
  {
   "cell_type": "code",
   "execution_count": 15,
   "id": "c6ecfb15",
   "metadata": {},
   "outputs": [],
   "source": [
    "class cat:\n",
    "    species = 'Felis catus'\n",
    "    def __init__(self, name, age):\n",
    "     self.name = name\n",
    "     self.age = age"
   ]
  },
  {
   "cell_type": "code",
   "execution_count": 22,
   "id": "75b71566",
   "metadata": {},
   "outputs": [
    {
     "name": "stdout",
     "output_type": "stream",
     "text": [
      "Felis Catus\n",
      "Cati 3\n",
      "Felis cati\n"
     ]
    }
   ],
   "source": [
    "class Cat:\n",
    "  species = 'Felis Catus'\n",
    "  def __init__(self,name, age):\n",
    "    self.name = name\n",
    "    self.age = age\n",
    "    print(self.name, self.age)\n",
    "\n",
    "print(Cat.species)\n",
    "cat1 = Cat('Cati',3)\n",
    "cat1.species = 'Felis cati'\n",
    "print(cat3.species)"
   ]
  },
  {
   "cell_type": "code",
   "execution_count": 24,
   "id": "5f3243f9",
   "metadata": {},
   "outputs": [
    {
     "name": "stdout",
     "output_type": "stream",
     "text": [
      "40000\n",
      "0.0\n"
     ]
    }
   ],
   "source": [
    "class Account:\n",
    "    def __init__(self, name, ids, index=0, balance=0.0):\n",
    "        self.name = name\n",
    "        self.ids = ids\n",
    "        self.index = index\n",
    "        self.balance = balance\n",
    "    def total_user_balance(self):\n",
    "        return self.index * self.balance\n",
    "\n",
    "account1 = Account('Peter Parker',1001, 2, 20000)\n",
    "print(account1.total_user_balance())\n",
    "\n",
    "account2 = Account('Steve Rodger',100)\n",
    "print(account2.total_user_balance())"
   ]
  },
  {
   "cell_type": "code",
   "execution_count": 26,
   "id": "b647e470",
   "metadata": {},
   "outputs": [
    {
     "name": "stdout",
     "output_type": "stream",
     "text": [
      "5\n",
      "75000\n"
     ]
    }
   ],
   "source": [
    "class DematAccount(Account):\n",
    "  \n",
    "  def __init__(self, name: str, ids: int, index=0, balance=0.0, number_shares=0):\n",
    "    # validate the new attribute specific to demat_account\n",
    "    assert number_shares >= 0, f'Number of shares {number_shares}is not greater that or equal to zero'\n",
    "\n",
    "    #Call the parent class constructor\n",
    "    super().__init__(name, ids, index, balance)\n",
    "\n",
    "    #Assign the new attribute\n",
    "    self.number_shares =number_shares\n",
    "\n",
    "\n",
    "\n",
    "  #Creating instances\n",
    "demat1= DematAccount('Bruce Banner',4001, 1, 25000, 5)\n",
    "demat2= DematAccount('Nick Fury',4002, 1, 75000, 12)\n",
    "print(demat1.number_shares)\n",
    "print(demat2.total_user_balance())"
   ]
  },
  {
   "cell_type": "code",
   "execution_count": null,
   "id": "1bb3a62e",
   "metadata": {},
   "outputs": [],
   "source": []
  },
  {
   "cell_type": "code",
   "execution_count": null,
   "id": "5c5953dc",
   "metadata": {},
   "outputs": [],
   "source": []
  }
 ],
 "metadata": {
  "kernelspec": {
   "display_name": "base",
   "language": "python",
   "name": "python3"
  },
  "language_info": {
   "codemirror_mode": {
    "name": "ipython",
    "version": 3
   },
   "file_extension": ".py",
   "mimetype": "text/x-python",
   "name": "python",
   "nbconvert_exporter": "python",
   "pygments_lexer": "ipython3",
   "version": "3.13.5"
  }
 },
 "nbformat": 4,
 "nbformat_minor": 5
}
